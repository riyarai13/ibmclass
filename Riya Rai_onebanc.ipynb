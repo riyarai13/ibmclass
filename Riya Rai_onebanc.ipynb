{
 "cells": [
  {
   "cell_type": "code",
   "execution_count": 2,
   "metadata": {},
   "outputs": [],
   "source": [
    "import pandas as pd\n",
    "import numpy as np\n",
    "import os"
   ]
  },
  {
   "cell_type": "code",
   "execution_count": 16,
   "metadata": {},
   "outputs": [
    {
     "data": {
      "text/html": [
       "<div>\n",
       "<style scoped>\n",
       "    .dataframe tbody tr th:only-of-type {\n",
       "        vertical-align: middle;\n",
       "    }\n",
       "\n",
       "    .dataframe tbody tr th {\n",
       "        vertical-align: top;\n",
       "    }\n",
       "\n",
       "    .dataframe thead th {\n",
       "        text-align: right;\n",
       "    }\n",
       "</style>\n",
       "<table border=\"1\" class=\"dataframe\">\n",
       "  <thead>\n",
       "    <tr style=\"text-align: right;\">\n",
       "      <th></th>\n",
       "      <th>Unnamed: 0</th>\n",
       "      <th>Domestic Transactions</th>\n",
       "      <th>Unnamed: 2</th>\n",
       "    </tr>\n",
       "  </thead>\n",
       "  <tbody>\n",
       "    <tr>\n",
       "      <th>0</th>\n",
       "      <td>Date</td>\n",
       "      <td>Transaction Description</td>\n",
       "      <td>Amount</td>\n",
       "    </tr>\n",
       "    <tr>\n",
       "      <th>1</th>\n",
       "      <td>NaN</td>\n",
       "      <td>Rahul</td>\n",
       "      <td>NaN</td>\n",
       "    </tr>\n",
       "    <tr>\n",
       "      <th>2</th>\n",
       "      <td>NaN</td>\n",
       "      <td>NaN</td>\n",
       "      <td>NaN</td>\n",
       "    </tr>\n",
       "    <tr>\n",
       "      <th>3</th>\n",
       "      <td>12-01-2018</td>\n",
       "      <td>STIC TRAVELS PVT LTD DELHI</td>\n",
       "      <td>32256 cr</td>\n",
       "    </tr>\n",
       "    <tr>\n",
       "      <th>4</th>\n",
       "      <td>13-01-2018</td>\n",
       "      <td>FLIPKART INTERNET PRIVATE BANGALORE</td>\n",
       "      <td>211687</td>\n",
       "    </tr>\n",
       "  </tbody>\n",
       "</table>\n",
       "</div>"
      ],
      "text/plain": [
       "   Unnamed: 0                Domestic Transactions Unnamed: 2\n",
       "0  Date        Transaction Description                 Amount\n",
       "1         NaN                                Rahul        NaN\n",
       "2         NaN                                  NaN        NaN\n",
       "3  12-01-2018  STIC TRAVELS PVT LTD DELHI            32256 cr\n",
       "4  13-01-2018  FLIPKART INTERNET PRIVATE BANGALORE     211687"
      ]
     },
     "execution_count": 16,
     "metadata": {},
     "output_type": "execute_result"
    }
   ],
   "source": [
    "inputfile = pd.read_csv('HDFC-Input-Case1.csv')\n",
    "outputFile = 'HDFC-Output-Case1.csv'\n",
    "inputfile.head()\n"
   ]
  },
  {
   "cell_type": "code",
   "execution_count": 23,
   "metadata": {
    "scrolled": true
   },
   "outputs": [],
   "source": [
    "def StandardizeStatement(inputFile, outputFile):\n",
    "    input_file = inputFile\n",
    "    input_file.rename(columns={'Unnamed: 0': 'Date', 'Unnamed: 2': 'Amount'}, inplace=True)\n",
    "    input_file.drop(input_file.index[0], inplace=True)\n",
    "    input_file = input_file[input_file['Domestic Transactions'].notna()]\n",
    "    input_file.reset_index(inplace=True)\n",
    "    for i in range(len(input_file['Date'])):\n",
    "        if input_file['Date'][i] == 'Date      ':\n",
    "            break\n",
    "    input_file.drop(index=i, inplace=True)\n",
    "    input_file.drop(columns=['index'], inplace=True)\n",
    "    input_file.reset_index(inplace=True)\n",
    "    transaction_location = []\n",
    "    currency = []\n",
    "\n",
    "    for i in range(len(input_file['Domestic Transactions'])):\n",
    "        location = input_file['Domestic Transactions'][i].split(' ')\n",
    "        location = ' '.join(location).split()\n",
    "        if location[-1] == 'EUR' or location[-1] == 'USD':\n",
    "            transaction_location.append(location[-2])\n",
    "            currency.append(location[-1])\n",
    "        else:\n",
    "            transaction_location.append(location[-1])\n",
    "            currency.append('INR')\n",
    "        transaction_location[i] = transaction_location[i].lower()\n",
    "\n",
    "    input_file['Location'] = transaction_location\n",
    "    input_file['Currency'] = currency\n",
    "    transaction = []\n",
    "    for location in range(len(transaction_location)):\n",
    "        if transaction_location[location] == 'delhi' or transaction_location[location] == 'banglore' or transaction_location[location] == 'mumbai' or transaction_location[location] == 'chennai' or transaction_location[location] == 'gurgaon':\n",
    "            transaction.append('Domestic')\n",
    "        else:\n",
    "            transaction.append('International')\n",
    "\n",
    "    input_file['Transaction'] = transaction\n",
    "    name = []\n",
    "    indices = []\n",
    "    for i in range(len(transaction_location)):\n",
    "        if transaction_location[i] == 'rahul':\n",
    "            name.append('rahul')\n",
    "            indices.append(i)\n",
    "        elif transaction_location[i] == 'ritu':\n",
    "            name.append('ritu')\n",
    "            indices.append(i)\n",
    "            \n",
    "    names_col = []\n",
    "    for i in range(len(transaction_location)):\n",
    "        if i <= 6:\n",
    "            names_col.append('rahul')\n",
    "        elif i >=7 and i<=13:\n",
    "             names_col.append('ritu')\n",
    "        else:\n",
    "             names_col.append('rahul')\n",
    "    input_file['CardName'] = names_col\n",
    "    input_file.dropna(axis=0, inplace=True)\n",
    "    return input_file.to_csv(outputFile, index = False)"
   ]
  },
  {
   "cell_type": "code",
   "execution_count": 26,
   "metadata": {},
   "outputs": [
    {
     "name": "stderr",
     "output_type": "stream",
     "text": [
      "C:\\Anaconda3\\lib\\site-packages\\pandas\\core\\frame.py:3697: SettingWithCopyWarning: \n",
      "A value is trying to be set on a copy of a slice from a DataFrame\n",
      "\n",
      "See the caveats in the documentation: http://pandas.pydata.org/pandas-docs/stable/indexing.html#indexing-view-versus-copy\n",
      "  errors=errors)\n",
      "C:\\Anaconda3\\lib\\site-packages\\ipykernel_launcher.py:27: SettingWithCopyWarning: \n",
      "A value is trying to be set on a copy of a slice from a DataFrame.\n",
      "Try using .loc[row_indexer,col_indexer] = value instead\n",
      "\n",
      "See the caveats in the documentation: http://pandas.pydata.org/pandas-docs/stable/indexing.html#indexing-view-versus-copy\n",
      "C:\\Anaconda3\\lib\\site-packages\\ipykernel_launcher.py:28: SettingWithCopyWarning: \n",
      "A value is trying to be set on a copy of a slice from a DataFrame.\n",
      "Try using .loc[row_indexer,col_indexer] = value instead\n",
      "\n",
      "See the caveats in the documentation: http://pandas.pydata.org/pandas-docs/stable/indexing.html#indexing-view-versus-copy\n",
      "C:\\Anaconda3\\lib\\site-packages\\ipykernel_launcher.py:36: SettingWithCopyWarning: \n",
      "A value is trying to be set on a copy of a slice from a DataFrame.\n",
      "Try using .loc[row_indexer,col_indexer] = value instead\n",
      "\n",
      "See the caveats in the documentation: http://pandas.pydata.org/pandas-docs/stable/indexing.html#indexing-view-versus-copy\n",
      "C:\\Anaconda3\\lib\\site-packages\\ipykernel_launcher.py:55: SettingWithCopyWarning: \n",
      "A value is trying to be set on a copy of a slice from a DataFrame.\n",
      "Try using .loc[row_indexer,col_indexer] = value instead\n",
      "\n",
      "See the caveats in the documentation: http://pandas.pydata.org/pandas-docs/stable/indexing.html#indexing-view-versus-copy\n",
      "C:\\Anaconda3\\lib\\site-packages\\ipykernel_launcher.py:56: SettingWithCopyWarning: \n",
      "A value is trying to be set on a copy of a slice from a DataFrame\n",
      "\n",
      "See the caveats in the documentation: http://pandas.pydata.org/pandas-docs/stable/indexing.html#indexing-view-versus-copy\n"
     ]
    }
   ],
   "source": [
    "StandardizeStatement(inputfile,outputFile)\n",
    "    "
   ]
  }
 ],
 "metadata": {
  "kernelspec": {
   "display_name": "Python 3",
   "language": "python",
   "name": "python3"
  },
  "language_info": {
   "codemirror_mode": {
    "name": "ipython",
    "version": 3
   },
   "file_extension": ".py",
   "mimetype": "text/x-python",
   "name": "python",
   "nbconvert_exporter": "python",
   "pygments_lexer": "ipython3",
   "version": "3.7.6"
  }
 },
 "nbformat": 4,
 "nbformat_minor": 2
}
